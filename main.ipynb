{
 "cells": [
  {
   "cell_type": "code",
   "execution_count": 68,
   "metadata": {},
   "outputs": [
    {
     "name": "stdout",
     "output_type": "stream",
     "text": [
      "Using MPS backend for training.\n"
     ]
    }
   ],
   "source": [
    "import torch\n",
    "import torch.nn as nn\n",
    "import torch.optim as optim\n",
    "import torchvision.transforms as transforms\n",
    "import torchvision.datasets as datasets\n",
    "from torch.utils.data import DataLoader\n",
    "\n",
    "if torch.backends.mps.is_available():\n",
    "    device = torch.device(\"mps\")\n",
    "    print(\"Using MPS backend for training.\")\n",
    "else:\n",
    "    device = torch.device(\"cpu\")\n",
    "    print(\"MPS backend not available, using CPU.\")\n",
    "\n",
    "class LRN(nn.Module):\n",
    "    def __init__(self, size=5, alpha=1e-4, beta=0.75, k=2.0):\n",
    "        super(LRN, self).__init__()\n",
    "        self.size = size\n",
    "        self.alpha = alpha\n",
    "        self.beta = beta\n",
    "        self.k = k\n",
    "\n",
    "    def forward(self, x):\n",
    "        div = x.pow(2)\n",
    "        div = nn.functional.avg_pool2d(div, (self.size, self.size), stride=1, padding=(self.size // 2))\n",
    "        div = div.mul(self.alpha).add(self.k).pow(self.beta)\n",
    "        x = x / div\n",
    "        return x\n",
    "\n",
    "class CIFAR10AlexNet(nn.Module):\n",
    "    def __init__(self, num_classes=10):\n",
    "        super(CIFAR10AlexNet, self).__init__()\n",
    "\n",
    "        self.features = nn.Sequential(\n",
    "            nn.Conv2d(3, 64, kernel_size=5, stride=1, padding=2),\n",
    "            nn.ReLU(inplace=True),\n",
    "            LRN(),  \n",
    "            nn.MaxPool2d(kernel_size=3, stride=2, padding=1),  \n",
    "            \n",
    "            nn.Conv2d(64, 192, kernel_size=5, padding=2),\n",
    "            nn.ReLU(inplace=True),\n",
    "            LRN(),  \n",
    "            nn.MaxPool2d(kernel_size=3, stride=2, padding=1),  \n",
    "\n",
    "            nn.Conv2d(192, 384, kernel_size=3, padding=1),\n",
    "            nn.ReLU(inplace=True),\n",
    "            \n",
    "            nn.Conv2d(384, 384, kernel_size=3, padding=1),  \n",
    "            nn.ReLU(inplace=True),\n",
    "            \n",
    "            nn.Conv2d(384, 256, kernel_size=3, padding=1),\n",
    "            nn.ReLU(inplace=True),\n",
    "\n",
    "            nn.Conv2d(256, 256, kernel_size=3, padding=1),\n",
    "            nn.ReLU(inplace=True),\n",
    "            nn.MaxPool2d(kernel_size=3, stride=2, padding=1), \n",
    "        )\n",
    "\n",
    "        self.avgpool = nn.AdaptiveAvgPool2d((6, 6))\n",
    "\n",
    "        self.classifier = nn.Sequential(\n",
    "            nn.Dropout(),\n",
    "            nn.Linear(256 * 6 * 6, 4096),\n",
    "            nn.ReLU(inplace=True),\n",
    "\n",
    "            nn.Dropout(),\n",
    "            nn.Linear(4096, 4096),\n",
    "            nn.ReLU(inplace=True),\n",
    "\n",
    "            nn.Linear(4096, 1024),  \n",
    "            nn.ReLU(inplace=True),\n",
    "\n",
    "            nn.Linear(1024, num_classes),\n",
    "        )\n",
    "\n",
    "    def forward(self, x):\n",
    "        x = self.features(x)\n",
    "        if device == torch.device(\"mps\"):  # If running on MPS, move to CPU for this operation\n",
    "            x = x.cpu()\n",
    "            x = self.avgpool(x)\n",
    "            x = x.to(device)\n",
    "        else:\n",
    "            x = self.avgpool(x)\n",
    "        x = torch.flatten(x, 1)\n",
    "        x = self.classifier(x)\n",
    "        return x\n",
    "\n",
    "# Instantiate the updated model\n",
    "model = CIFAR10AlexNet(num_classes=10).to(device)\n"
   ]
  },
  {
   "cell_type": "markdown",
   "metadata": {},
   "source": [
    "PREPARE DATASET"
   ]
  },
  {
   "cell_type": "code",
   "execution_count": 69,
   "metadata": {},
   "outputs": [
    {
     "name": "stdout",
     "output_type": "stream",
     "text": [
      "Files already downloaded and verified\n",
      "Files already downloaded and verified\n"
     ]
    }
   ],
   "source": [
    "device = torch.device('cuda' if torch.cuda.is_available() else 'cpu')\n",
    "model.to(device)\n",
    "\n",
    "transform = transforms.Compose([\n",
    "    transforms.RandomCrop(32, padding=4),             \n",
    "    transforms.RandomHorizontalFlip(),                \n",
    "    transforms.RandomRotation(15),                    \n",
    "    transforms.ColorJitter(brightness=0.2, contrast=0.2, saturation=0.2, hue=0.1),  \n",
    "    transforms.ToTensor(),                              \n",
    "    transforms.Normalize((0.4914, 0.4822, 0.4465),      \n",
    "                         (0.2023, 0.1994, 0.2010)),\n",
    "    transforms.RandomErasing(p=0.5, scale=(0.02, 0.33), ratio=(0.3, 3.3), value=\"random\"),  \n",
    "])\n",
    "\n",
    "train_dataset = datasets.CIFAR10(root='./data', train=True, download=True, transform=transform)\n",
    "train_loader = DataLoader(train_dataset, batch_size=128, shuffle=True)\n",
    "\n",
    "test_dataset = datasets.CIFAR10(root='./data', train=False, download=True, transform=transform)\n",
    "test_loader = DataLoader(test_dataset, batch_size=128, shuffle=False)\n"
   ]
  },
  {
   "cell_type": "markdown",
   "metadata": {},
   "source": [
    "Define the Loss Function and Optimizer"
   ]
  },
  {
   "cell_type": "code",
   "execution_count": 70,
   "metadata": {},
   "outputs": [],
   "source": [
    "criterion = nn.CrossEntropyLoss()\n",
    "optimizer = optim.SGD(model.parameters(), lr=0.01, momentum=0.9, weight_decay=0.0005)\n"
   ]
  },
  {
   "cell_type": "markdown",
   "metadata": {},
   "source": [
    "Train the Model on CIFAR-10"
   ]
  },
  {
   "cell_type": "code",
   "execution_count": 71,
   "metadata": {},
   "outputs": [
    {
     "name": "stdout",
     "output_type": "stream",
     "text": [
      "Epoch 1, Batch 100, Loss: 2.303\n",
      "Epoch 1, Batch 200, Loss: 2.303\n",
      "Epoch 1, Batch 300, Loss: 2.303\n",
      "Epoch 2, Batch 100, Loss: 2.303\n",
      "Epoch 2, Batch 200, Loss: 2.303\n",
      "Epoch 2, Batch 300, Loss: 2.303\n",
      "Epoch 3, Batch 100, Loss: 2.303\n",
      "Epoch 3, Batch 200, Loss: 2.302\n",
      "Epoch 3, Batch 300, Loss: 2.302\n",
      "Epoch 4, Batch 100, Loss: 2.280\n",
      "Epoch 4, Batch 200, Loss: 2.150\n",
      "Epoch 4, Batch 300, Loss: 2.085\n",
      "Epoch 5, Batch 100, Loss: 2.015\n",
      "Epoch 5, Batch 200, Loss: 1.978\n",
      "Epoch 5, Batch 300, Loss: 1.970\n",
      "Epoch 6, Batch 100, Loss: 1.934\n",
      "Epoch 6, Batch 200, Loss: 1.922\n",
      "Epoch 6, Batch 300, Loss: 1.895\n",
      "Epoch 7, Batch 100, Loss: 1.840\n",
      "Epoch 7, Batch 200, Loss: 1.809\n",
      "Epoch 7, Batch 300, Loss: 1.777\n",
      "Epoch 8, Batch 100, Loss: 1.723\n",
      "Epoch 8, Batch 200, Loss: 1.684\n",
      "Epoch 8, Batch 300, Loss: 1.669\n",
      "Epoch 9, Batch 100, Loss: 1.638\n",
      "Epoch 9, Batch 200, Loss: 1.602\n",
      "Epoch 9, Batch 300, Loss: 1.594\n",
      "Epoch 10, Batch 100, Loss: 1.563\n",
      "Epoch 10, Batch 200, Loss: 1.528\n",
      "Epoch 10, Batch 300, Loss: 1.505\n",
      "Training complete\n"
     ]
    }
   ],
   "source": [
    "device = torch.device(\"mps\" if torch.backends.mps.is_available() else \"cuda\" if torch.cuda.is_available() else \"cpu\")\n",
    "model.to(device)\n",
    "\n",
    "epochs = 10  \n",
    "\n",
    "for epoch in range(epochs):\n",
    "    model.train()  \n",
    "    running_loss = 0.0\n",
    "    \n",
    "    for i, (inputs, labels) in enumerate(train_loader, 0):\n",
    "        inputs, labels = inputs.to(device), labels.to(device)\n",
    "        optimizer.zero_grad()\n",
    "        \n",
    "        outputs = model(inputs)\n",
    "        \n",
    "        loss = criterion(outputs, labels)\n",
    "        \n",
    "        loss.backward()\n",
    "        optimizer.step()\n",
    "        \n",
    "        running_loss += loss.item()\n",
    "        \n",
    "        if i % 100 == 99:\n",
    "            print(f'Epoch {epoch + 1}, Batch {i + 1}, Loss: {running_loss / 100:.3f}')\n",
    "            running_loss = 0.0\n",
    "\n",
    "print(\"Training complete\")\n"
   ]
  },
  {
   "cell_type": "markdown",
   "metadata": {},
   "source": [
    "Evaluate the Model on CIFAR-10"
   ]
  },
  {
   "cell_type": "code",
   "execution_count": 72,
   "metadata": {},
   "outputs": [
    {
     "name": "stdout",
     "output_type": "stream",
     "text": [
      "Accuracy on the CIFAR-10 test set: 45.85%\n"
     ]
    }
   ],
   "source": [
    "model.eval()\n",
    "correct = 0\n",
    "total = 0\n",
    "\n",
    "with torch.no_grad():\n",
    "    for data in test_loader:\n",
    "        inputs, labels = data\n",
    "        inputs, labels = inputs.to(device), labels.to(device)\n",
    "        outputs = model(inputs)\n",
    "        _, predicted = torch.max(outputs.data, 1)\n",
    "        total += labels.size(0)\n",
    "        correct += (predicted == labels).sum().item()\n",
    "\n",
    "print(f'Accuracy on the CIFAR-10 test set: {100 * correct / total:.2f}%')\n"
   ]
  },
  {
   "cell_type": "markdown",
   "metadata": {},
   "source": [
    "SAVE THE MODEL"
   ]
  },
  {
   "cell_type": "code",
   "execution_count": 73,
   "metadata": {},
   "outputs": [],
   "source": [
    "torch.save(model.state_dict(), 'CIFAR10_alexnet.pth')\n"
   ]
  }
 ],
 "metadata": {
  "kernelspec": {
   "display_name": "venv",
   "language": "python",
   "name": "python3"
  },
  "language_info": {
   "codemirror_mode": {
    "name": "ipython",
    "version": 3
   },
   "file_extension": ".py",
   "mimetype": "text/x-python",
   "name": "python",
   "nbconvert_exporter": "python",
   "pygments_lexer": "ipython3",
   "version": "3.11.10"
  }
 },
 "nbformat": 4,
 "nbformat_minor": 2
}
